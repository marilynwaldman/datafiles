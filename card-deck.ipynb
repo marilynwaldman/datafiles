{
 "cells": [
  {
   "cell_type": "code",
   "execution_count": 1,
   "metadata": {},
   "outputs": [],
   "source": [
    "import pandas as pd\n",
    "from numpy import random\n",
    "import matplotlib.pyplot as plt\n",
    "import sys #only needed to determine Python version number\n",
    "import matplotlib #only needed to determine Matplotlib version number\n",
    "\n",
    "# Enable inline plotting\n",
    "%matplotlib inline\n"
   ]
  },
  {
   "cell_type": "code",
   "execution_count": 12,
   "metadata": {},
   "outputs": [],
   "source": [
    "suits = ['Club', 'Spade', 'Hearts', 'Diamond']\n",
    "nums = ['Ace',  '2','3', '4', '5', '6', '7', '8', '9', '10', 'Jack', 'Queen', 'King' ]"
   ]
  },
  {
   "cell_type": "code",
   "execution_count": 3,
   "metadata": {},
   "outputs": [
    {
     "name": "stdout",
     "output_type": "stream",
     "text": [
      "Club\n",
      "Spade\n",
      "Hearts\n",
      "Diamond\n"
     ]
    }
   ],
   "source": [
    "for suit in suits:\n",
    "    print(suit)"
   ]
  },
  {
   "cell_type": "code",
   "execution_count": 13,
   "metadata": {},
   "outputs": [
    {
     "name": "stdout",
     "output_type": "stream",
     "text": [
      "Club   Ace\n",
      "Club   2\n",
      "Club   3\n",
      "Club   4\n",
      "Club   5\n",
      "Club   6\n",
      "Club   7\n",
      "Club   8\n",
      "Club   9\n",
      "Club   10\n",
      "Club   Jack\n",
      "Club   Queen\n",
      "Club   King\n",
      "Spade   Ace\n",
      "Spade   2\n",
      "Spade   3\n",
      "Spade   4\n",
      "Spade   5\n",
      "Spade   6\n",
      "Spade   7\n",
      "Spade   8\n",
      "Spade   9\n",
      "Spade   10\n",
      "Spade   Jack\n",
      "Spade   Queen\n",
      "Spade   King\n",
      "Hearts   Ace\n",
      "Hearts   2\n",
      "Hearts   3\n",
      "Hearts   4\n",
      "Hearts   5\n",
      "Hearts   6\n",
      "Hearts   7\n",
      "Hearts   8\n",
      "Hearts   9\n",
      "Hearts   10\n",
      "Hearts   Jack\n",
      "Hearts   Queen\n",
      "Hearts   King\n",
      "Diamond   Ace\n",
      "Diamond   2\n",
      "Diamond   3\n",
      "Diamond   4\n",
      "Diamond   5\n",
      "Diamond   6\n",
      "Diamond   7\n",
      "Diamond   8\n",
      "Diamond   9\n",
      "Diamond   10\n",
      "Diamond   Jack\n",
      "Diamond   Queen\n",
      "Diamond   King\n"
     ]
    }
   ],
   "source": [
    "for suit in suits:\n",
    "    \n",
    "    for num in nums:\n",
    "        print(suit, \" \", num)"
   ]
  },
  {
   "cell_type": "code",
   "execution_count": 16,
   "metadata": {},
   "outputs": [
    {
     "name": "stdout",
     "output_type": "stream",
     "text": [
      "Club   Ace\n",
      "Club   2\n",
      "Club   3\n",
      "Club   4\n",
      "Club   5\n",
      "Club   6\n",
      "Club   7\n",
      "Club   8\n",
      "Club   9\n",
      "Club   10\n",
      "Club   Jack\n",
      "Club   Queen\n",
      "Club   King\n",
      "Spade   Ace\n",
      "Spade   2\n",
      "Spade   3\n",
      "Spade   4\n",
      "Spade   5\n",
      "Spade   6\n",
      "Spade   7\n",
      "Spade   8\n",
      "Spade   9\n",
      "Spade   10\n",
      "Spade   Jack\n",
      "Spade   Queen\n",
      "Spade   King\n",
      "Hearts   Ace\n",
      "Hearts   2\n",
      "Hearts   3\n",
      "Hearts   4\n",
      "Hearts   5\n",
      "Hearts   6\n",
      "Hearts   7\n",
      "Hearts   8\n",
      "Hearts   9\n",
      "Hearts   10\n",
      "Hearts   Jack\n",
      "Hearts   Queen\n",
      "Hearts   King\n",
      "Diamond   Ace\n",
      "Diamond   2\n",
      "Diamond   3\n",
      "Diamond   4\n",
      "Diamond   5\n",
      "Diamond   6\n",
      "Diamond   7\n",
      "Diamond   8\n",
      "Diamond   9\n",
      "Diamond   10\n",
      "Diamond   Jack\n",
      "Diamond   Queen\n",
      "Diamond   King\n"
     ]
    }
   ],
   "source": [
    "deck = []\n",
    "for suit in suits:    \n",
    "    for num in nums:\n",
    "        print(suit, \" \", num)\n",
    "        deck.append((suit,num))"
   ]
  },
  {
   "cell_type": "code",
   "execution_count": 17,
   "metadata": {},
   "outputs": [
    {
     "name": "stdout",
     "output_type": "stream",
     "text": [
      "[('Club', 'Ace'), ('Club', '2'), ('Club', '3'), ('Club', '4'), ('Club', '5'), ('Club', '6'), ('Club', '7'), ('Club', '8'), ('Club', '9'), ('Club', '10'), ('Club', 'Jack'), ('Club', 'Queen'), ('Club', 'King'), ('Spade', 'Ace'), ('Spade', '2'), ('Spade', '3'), ('Spade', '4'), ('Spade', '5'), ('Spade', '6'), ('Spade', '7'), ('Spade', '8'), ('Spade', '9'), ('Spade', '10'), ('Spade', 'Jack'), ('Spade', 'Queen'), ('Spade', 'King'), ('Hearts', 'Ace'), ('Hearts', '2'), ('Hearts', '3'), ('Hearts', '4'), ('Hearts', '5'), ('Hearts', '6'), ('Hearts', '7'), ('Hearts', '8'), ('Hearts', '9'), ('Hearts', '10'), ('Hearts', 'Jack'), ('Hearts', 'Queen'), ('Hearts', 'King'), ('Diamond', 'Ace'), ('Diamond', '2'), ('Diamond', '3'), ('Diamond', '4'), ('Diamond', '5'), ('Diamond', '6'), ('Diamond', '7'), ('Diamond', '8'), ('Diamond', '9'), ('Diamond', '10'), ('Diamond', 'Jack'), ('Diamond', 'Queen'), ('Diamond', 'King')]\n"
     ]
    }
   ],
   "source": [
    "print(deck)"
   ]
  },
  {
   "cell_type": "code",
   "execution_count": 18,
   "metadata": {},
   "outputs": [
    {
     "name": "stdout",
     "output_type": "stream",
     "text": [
      "<class 'list'>\n",
      "52\n"
     ]
    }
   ],
   "source": [
    "print(type(deck))\n",
    "print(len(deck))"
   ]
  },
  {
   "cell_type": "code",
   "execution_count": null,
   "metadata": {},
   "outputs": [],
   "source": []
  }
 ],
 "metadata": {
  "kernelspec": {
   "display_name": "Python 3",
   "language": "python",
   "name": "python3"
  },
  "language_info": {
   "codemirror_mode": {
    "name": "ipython",
    "version": 3
   },
   "file_extension": ".py",
   "mimetype": "text/x-python",
   "name": "python",
   "nbconvert_exporter": "python",
   "pygments_lexer": "ipython3",
   "version": "3.7.6"
  }
 },
 "nbformat": 4,
 "nbformat_minor": 4
}
